{
  "nbformat": 4,
  "nbformat_minor": 0,
  "metadata": {
    "colab": {
      "provenance": [],
      "authorship_tag": "ABX9TyNy8FNd4GZ7YrhnEZP6rG/Q",
      "include_colab_link": true
    },
    "kernelspec": {
      "name": "python3",
      "display_name": "Python 3"
    },
    "language_info": {
      "name": "python"
    }
  },
  "cells": [
    {
      "cell_type": "markdown",
      "metadata": {
        "id": "view-in-github",
        "colab_type": "text"
      },
      "source": [
        "<a href=\"https://colab.research.google.com/github/Ayushhhshh/Ayushhhshh/blob/main/arithmetic.ipynb\" target=\"_parent\"><img src=\"https://colab.research.google.com/assets/colab-badge.svg\" alt=\"Open In Colab\"/></a>"
      ]
    },
    {
      "cell_type": "code",
      "execution_count": 1,
      "metadata": {
        "id": "Q7qyWUAhTzC2",
        "colab": {
          "base_uri": "https://localhost:8080/"
        },
        "outputId": "7ecdbe4c-61d8-48c5-9800-2dd5d2df1903"
      },
      "outputs": [
        {
          "output_type": "stream",
          "name": "stdout",
          "text": [
            "Enter a number:5\n",
            "Enter a number:6\n",
            "Addition of A and B is: 11\n",
            "Subtraction of A and B is: -1\n",
            "Multiplication of A and B is: 30\n",
            "Division of A and B is: 0.8333333333333334\n",
            "Remainder of A and B is: 5\n"
          ]
        }
      ],
      "source": [
        "#Arithmetic operations\n",
        "n=int(input(\"Enter a number:\"))\n",
        "m=int(input(\"Enter a number:\"))\n",
        "print(\"Addition of A and B is:\",n+m)\n",
        "print(\"Subtraction of A and B is:\",n-m)\n",
        "print(\"Multiplication of A and B is:\",n*m)\n",
        "print(\"Division of A and B is:\",n/m)\n",
        "print(\"Remainder of A and B is:\",n%m)\n",
        "\n"
      ]
    }
  ]
}